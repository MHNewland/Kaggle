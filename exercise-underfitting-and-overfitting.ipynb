{
 "cells": [
  {
   "cell_type": "markdown",
   "id": "647f0af1",
   "metadata": {
    "papermill": {
     "duration": 0.006853,
     "end_time": "2023-01-13T17:43:51.936064",
     "exception": false,
     "start_time": "2023-01-13T17:43:51.929211",
     "status": "completed"
    },
    "tags": []
   },
   "source": [
    "**This notebook is an exercise in the [Introduction to Machine Learning](https://www.kaggle.com/learn/intro-to-machine-learning) course.  You can reference the tutorial at [this link](https://www.kaggle.com/dansbecker/underfitting-and-overfitting).**\n",
    "\n",
    "---\n"
   ]
  },
  {
   "cell_type": "markdown",
   "id": "46f1bff8",
   "metadata": {
    "papermill": {
     "duration": 0.0045,
     "end_time": "2023-01-13T17:43:51.945163",
     "exception": false,
     "start_time": "2023-01-13T17:43:51.940663",
     "status": "completed"
    },
    "tags": []
   },
   "source": [
    "## Recap\n",
    "You've built your first model, and now it's time to optimize the size of the tree to make better predictions. Run this cell to set up your coding environment where the previous step left off."
   ]
  },
  {
   "cell_type": "code",
   "execution_count": 1,
   "id": "6dcac4ad",
   "metadata": {
    "execution": {
     "iopub.execute_input": "2023-01-13T17:43:51.955775Z",
     "iopub.status.busy": "2023-01-13T17:43:51.954882Z",
     "iopub.status.idle": "2023-01-13T17:43:53.472328Z",
     "shell.execute_reply": "2023-01-13T17:43:53.471268Z"
    },
    "papermill": {
     "duration": 1.526112,
     "end_time": "2023-01-13T17:43:53.475200",
     "exception": false,
     "start_time": "2023-01-13T17:43:51.949088",
     "status": "completed"
    },
    "tags": []
   },
   "outputs": [
    {
     "name": "stdout",
     "output_type": "stream",
     "text": [
      "Validation MAE: 29,653\n",
      "\n",
      "Setup complete\n"
     ]
    }
   ],
   "source": [
    "# Code you have previously used to load data\n",
    "import pandas as pd\n",
    "from sklearn.metrics import mean_absolute_error\n",
    "from sklearn.model_selection import train_test_split\n",
    "from sklearn.tree import DecisionTreeRegressor\n",
    "\n",
    "\n",
    "# Path of the file to read\n",
    "iowa_file_path = '../input/home-data-for-ml-course/train.csv'\n",
    "\n",
    "home_data = pd.read_csv(iowa_file_path)\n",
    "# Create target object and call it y\n",
    "y = home_data.SalePrice\n",
    "# Create X\n",
    "features = ['LotArea', 'YearBuilt', '1stFlrSF', '2ndFlrSF', 'FullBath', 'BedroomAbvGr', 'TotRmsAbvGrd']\n",
    "X = home_data[features]\n",
    "\n",
    "# Split into validation and training data\n",
    "train_X, val_X, train_y, val_y = train_test_split(X, y, random_state=1)\n",
    "\n",
    "# Specify Model\n",
    "iowa_model = DecisionTreeRegressor(random_state=1)\n",
    "# Fit Model\n",
    "iowa_model.fit(train_X, train_y)\n",
    "\n",
    "# Make validation predictions and calculate mean absolute error\n",
    "val_predictions = iowa_model.predict(val_X)\n",
    "val_mae = mean_absolute_error(val_predictions, val_y)\n",
    "print(\"Validation MAE: {:,.0f}\".format(val_mae))\n",
    "\n",
    "# Set up code checking\n",
    "from learntools.core import binder\n",
    "binder.bind(globals())\n",
    "from learntools.machine_learning.ex5 import *\n",
    "print(\"\\nSetup complete\")"
   ]
  },
  {
   "cell_type": "markdown",
   "id": "6d40f69d",
   "metadata": {
    "papermill": {
     "duration": 0.003962,
     "end_time": "2023-01-13T17:43:53.483187",
     "exception": false,
     "start_time": "2023-01-13T17:43:53.479225",
     "status": "completed"
    },
    "tags": []
   },
   "source": [
    "# Exercises\n",
    "You could write the function `get_mae` yourself. For now, we'll supply it. This is the same function you read about in the previous lesson. Just run the cell below."
   ]
  },
  {
   "cell_type": "code",
   "execution_count": 2,
   "id": "ebb9b2d6",
   "metadata": {
    "execution": {
     "iopub.execute_input": "2023-01-13T17:43:53.493246Z",
     "iopub.status.busy": "2023-01-13T17:43:53.492493Z",
     "iopub.status.idle": "2023-01-13T17:43:53.498047Z",
     "shell.execute_reply": "2023-01-13T17:43:53.497142Z"
    },
    "papermill": {
     "duration": 0.013248,
     "end_time": "2023-01-13T17:43:53.500416",
     "exception": false,
     "start_time": "2023-01-13T17:43:53.487168",
     "status": "completed"
    },
    "tags": []
   },
   "outputs": [],
   "source": [
    "def get_mae(max_leaf_nodes, train_X, val_X, train_y, val_y):\n",
    "    model = DecisionTreeRegressor(max_leaf_nodes=max_leaf_nodes, random_state=0)\n",
    "    model.fit(train_X, train_y)\n",
    "    preds_val = model.predict(val_X)\n",
    "    mae = mean_absolute_error(val_y, preds_val)\n",
    "    return(mae)"
   ]
  },
  {
   "cell_type": "markdown",
   "id": "7ea6569a",
   "metadata": {
    "papermill": {
     "duration": 0.003619,
     "end_time": "2023-01-13T17:43:53.508275",
     "exception": false,
     "start_time": "2023-01-13T17:43:53.504656",
     "status": "completed"
    },
    "tags": []
   },
   "source": [
    "## Step 1: Compare Different Tree Sizes\n",
    "Write a loop that tries the following values for *max_leaf_nodes* from a set of possible values.\n",
    "\n",
    "Call the *get_mae* function on each value of max_leaf_nodes. Store the output in some way that allows you to select the value of `max_leaf_nodes` that gives the most accurate model on your data."
   ]
  },
  {
   "cell_type": "code",
   "execution_count": null,
   "id": "2d36e03f",
   "metadata": {
    "papermill": {
     "duration": 0.003638,
     "end_time": "2023-01-13T17:43:53.515840",
     "exception": false,
     "start_time": "2023-01-13T17:43:53.512202",
     "status": "completed"
    },
    "tags": []
   },
   "outputs": [],
   "source": []
  },
  {
   "cell_type": "code",
   "execution_count": 3,
   "id": "974b11d4",
   "metadata": {
    "execution": {
     "iopub.execute_input": "2023-01-13T17:43:53.525800Z",
     "iopub.status.busy": "2023-01-13T17:43:53.524969Z",
     "iopub.status.idle": "2023-01-13T17:43:53.575933Z",
     "shell.execute_reply": "2023-01-13T17:43:53.574669Z"
    },
    "papermill": {
     "duration": 0.05887,
     "end_time": "2023-01-13T17:43:53.578559",
     "exception": false,
     "start_time": "2023-01-13T17:43:53.519689",
     "status": "completed"
    },
    "tags": []
   },
   "outputs": [
    {
     "data": {
      "application/javascript": [
       "parent.postMessage({\"jupyterEvent\": \"custom.exercise_interaction\", \"data\": {\"outcomeType\": 1, \"valueTowardsCompletion\": 0.5, \"interactionType\": 1, \"questionType\": 1, \"questionId\": \"1_BestTreeSize\", \"learnToolsVersion\": \"0.3.4\", \"failureMessage\": \"\", \"exceptionClass\": \"\", \"trace\": \"\"}}, \"*\")"
      ],
      "text/plain": [
       "<IPython.core.display.Javascript object>"
      ]
     },
     "metadata": {},
     "output_type": "display_data"
    },
    {
     "data": {
      "text/markdown": [
       "<span style=\"color:#33cc33\">Correct</span>"
      ],
      "text/plain": [
       "Correct"
      ]
     },
     "metadata": {},
     "output_type": "display_data"
    }
   ],
   "source": [
    "candidate_max_leaf_nodes = [5, 25, 50, 100, 250, 500]\n",
    "min_mae = 0\n",
    "best_size = 0\n",
    "# Write loop to find the ideal tree size from candidate_max_leaf_nodes\n",
    "for max_leaf_nodes in candidate_max_leaf_nodes:\n",
    "    mae = (get_mae(max_leaf_nodes, train_X, val_X, train_y, val_y))\n",
    "    if min_mae == 0 or mae < min_mae:\n",
    "        min_mae = mae\n",
    "        best_size = max_leaf_nodes\n",
    "# Store the best value of max_leaf_nodes (it will be either 5, 25, 50, 100, 250 or 500)\n",
    "best_tree_size = best_size\n",
    "\n",
    "# Check your answer\n",
    "step_1.check()"
   ]
  },
  {
   "cell_type": "code",
   "execution_count": 4,
   "id": "5667c322",
   "metadata": {
    "execution": {
     "iopub.execute_input": "2023-01-13T17:43:53.589138Z",
     "iopub.status.busy": "2023-01-13T17:43:53.588729Z",
     "iopub.status.idle": "2023-01-13T17:43:53.596226Z",
     "shell.execute_reply": "2023-01-13T17:43:53.595241Z"
    },
    "papermill": {
     "duration": 0.01564,
     "end_time": "2023-01-13T17:43:53.598510",
     "exception": false,
     "start_time": "2023-01-13T17:43:53.582870",
     "status": "completed"
    },
    "tags": []
   },
   "outputs": [
    {
     "data": {
      "application/javascript": [
       "parent.postMessage({\"jupyterEvent\": \"custom.exercise_interaction\", \"data\": {\"interactionType\": 2, \"questionType\": 1, \"questionId\": \"1_BestTreeSize\", \"learnToolsVersion\": \"0.3.4\", \"valueTowardsCompletion\": 0.0, \"failureMessage\": \"\", \"exceptionClass\": \"\", \"trace\": \"\", \"outcomeType\": 4}}, \"*\")"
      ],
      "text/plain": [
       "<IPython.core.display.Javascript object>"
      ]
     },
     "metadata": {},
     "output_type": "display_data"
    },
    {
     "data": {
      "text/markdown": [
       "<span style=\"color:#3366cc\">Hint:</span> You will call get_mae in the loop. You'll need to map the names of your data structure to the names in get_mae"
      ],
      "text/plain": [
       "Hint: You will call get_mae in the loop. You'll need to map the names of your data structure to the names in get_mae"
      ]
     },
     "metadata": {},
     "output_type": "display_data"
    }
   ],
   "source": [
    "# The lines below will show you a hint or the solution.\n",
    "step_1.hint() \n",
    "# step_1.solution()"
   ]
  },
  {
   "cell_type": "markdown",
   "id": "d817b95a",
   "metadata": {
    "papermill": {
     "duration": 0.004134,
     "end_time": "2023-01-13T17:43:53.607053",
     "exception": false,
     "start_time": "2023-01-13T17:43:53.602919",
     "status": "completed"
    },
    "tags": []
   },
   "source": [
    "## Step 2: Fit Model Using All Data\n",
    "You know the best tree size. If you were going to deploy this model in practice, you would make it even more accurate by using all of the data and keeping that tree size.  That is, you don't need to hold out the validation data now that you've made all your modeling decisions."
   ]
  },
  {
   "cell_type": "code",
   "execution_count": 5,
   "id": "e1ace495",
   "metadata": {
    "execution": {
     "iopub.execute_input": "2023-01-13T17:43:53.617959Z",
     "iopub.status.busy": "2023-01-13T17:43:53.616910Z",
     "iopub.status.idle": "2023-01-13T17:43:53.634912Z",
     "shell.execute_reply": "2023-01-13T17:43:53.633749Z"
    },
    "papermill": {
     "duration": 0.025939,
     "end_time": "2023-01-13T17:43:53.637299",
     "exception": false,
     "start_time": "2023-01-13T17:43:53.611360",
     "status": "completed"
    },
    "tags": []
   },
   "outputs": [
    {
     "data": {
      "application/javascript": [
       "parent.postMessage({\"jupyterEvent\": \"custom.exercise_interaction\", \"data\": {\"outcomeType\": 1, \"valueTowardsCompletion\": 0.5, \"interactionType\": 1, \"questionType\": 2, \"questionId\": \"2_FitModelWithAllData\", \"learnToolsVersion\": \"0.3.4\", \"failureMessage\": \"\", \"exceptionClass\": \"\", \"trace\": \"\"}}, \"*\")"
      ],
      "text/plain": [
       "<IPython.core.display.Javascript object>"
      ]
     },
     "metadata": {},
     "output_type": "display_data"
    },
    {
     "data": {
      "text/markdown": [
       "<span style=\"color:#33cc33\">Correct</span>"
      ],
      "text/plain": [
       "Correct"
      ]
     },
     "metadata": {},
     "output_type": "display_data"
    }
   ],
   "source": [
    "# Fill in argument to make optimal size and uncomment\n",
    "final_model = DecisionTreeRegressor(max_leaf_nodes=best_tree_size, random_state=0)\n",
    "\n",
    "# fit the final model and uncomment the next two lines\n",
    "final_model.fit(X, y)\n",
    "\n",
    "# Check your answer\n",
    "step_2.check()"
   ]
  },
  {
   "cell_type": "code",
   "execution_count": 6,
   "id": "40007a76",
   "metadata": {
    "execution": {
     "iopub.execute_input": "2023-01-13T17:43:53.648365Z",
     "iopub.status.busy": "2023-01-13T17:43:53.647966Z",
     "iopub.status.idle": "2023-01-13T17:43:53.657420Z",
     "shell.execute_reply": "2023-01-13T17:43:53.656437Z"
    },
    "papermill": {
     "duration": 0.018141,
     "end_time": "2023-01-13T17:43:53.660183",
     "exception": false,
     "start_time": "2023-01-13T17:43:53.642042",
     "status": "completed"
    },
    "tags": []
   },
   "outputs": [
    {
     "data": {
      "application/javascript": [
       "parent.postMessage({\"jupyterEvent\": \"custom.exercise_interaction\", \"data\": {\"interactionType\": 2, \"questionType\": 2, \"questionId\": \"2_FitModelWithAllData\", \"learnToolsVersion\": \"0.3.4\", \"valueTowardsCompletion\": 0.0, \"failureMessage\": \"\", \"exceptionClass\": \"\", \"trace\": \"\", \"outcomeType\": 4}}, \"*\")"
      ],
      "text/plain": [
       "<IPython.core.display.Javascript object>"
      ]
     },
     "metadata": {},
     "output_type": "display_data"
    },
    {
     "data": {
      "text/markdown": [
       "<span style=\"color:#3366cc\">Hint:</span> Fit with the ideal value of max_leaf_nodes. In the fit step, use all of the data in the dataset"
      ],
      "text/plain": [
       "Hint: Fit with the ideal value of max_leaf_nodes. In the fit step, use all of the data in the dataset"
      ]
     },
     "metadata": {},
     "output_type": "display_data"
    }
   ],
   "source": [
    "step_2.hint()\n",
    "# step_2.solution()"
   ]
  },
  {
   "cell_type": "markdown",
   "id": "bae9b9f2",
   "metadata": {
    "papermill": {
     "duration": 0.004573,
     "end_time": "2023-01-13T17:43:53.669749",
     "exception": false,
     "start_time": "2023-01-13T17:43:53.665176",
     "status": "completed"
    },
    "tags": []
   },
   "source": [
    "You've tuned this model and improved your results. But we are still using Decision Tree models, which are not very sophisticated by modern machine learning standards. In the next step you will learn to use Random Forests to improve your models even more.\n",
    "\n",
    "# Keep Going\n",
    "\n",
    "You are ready for **[Random Forests](https://www.kaggle.com/dansbecker/random-forests).**\n"
   ]
  },
  {
   "cell_type": "markdown",
   "id": "c3af76b7",
   "metadata": {
    "papermill": {
     "duration": 0.004403,
     "end_time": "2023-01-13T17:43:53.678902",
     "exception": false,
     "start_time": "2023-01-13T17:43:53.674499",
     "status": "completed"
    },
    "tags": []
   },
   "source": [
    "---\n",
    "\n",
    "\n",
    "\n",
    "\n",
    "*Have questions or comments? Visit the [course discussion forum](https://www.kaggle.com/learn/intro-to-machine-learning/discussion) to chat with other learners.*"
   ]
  }
 ],
 "metadata": {
  "kernelspec": {
   "display_name": "Python 3",
   "language": "python",
   "name": "python3"
  },
  "language_info": {
   "codemirror_mode": {
    "name": "ipython",
    "version": 3
   },
   "file_extension": ".py",
   "mimetype": "text/x-python",
   "name": "python",
   "nbconvert_exporter": "python",
   "pygments_lexer": "ipython3",
   "version": "3.7.12"
  },
  "papermill": {
   "default_parameters": {},
   "duration": 11.725886,
   "end_time": "2023-01-13T17:43:54.508929",
   "environment_variables": {},
   "exception": null,
   "input_path": "__notebook__.ipynb",
   "output_path": "__notebook__.ipynb",
   "parameters": {},
   "start_time": "2023-01-13T17:43:42.783043",
   "version": "2.3.4"
  }
 },
 "nbformat": 4,
 "nbformat_minor": 5
}

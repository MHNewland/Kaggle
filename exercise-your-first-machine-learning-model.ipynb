{
 "cells": [
  {
   "cell_type": "markdown",
   "id": "ba2abdd4",
   "metadata": {
    "papermill": {
     "duration": 0.006299,
     "end_time": "2023-01-13T15:29:59.962665",
     "exception": false,
     "start_time": "2023-01-13T15:29:59.956366",
     "status": "completed"
    },
    "tags": []
   },
   "source": [
    "**This notebook is an exercise in the [Introduction to Machine Learning](https://www.kaggle.com/learn/intro-to-machine-learning) course.  You can reference the tutorial at [this link](https://www.kaggle.com/dansbecker/your-first-machine-learning-model).**\n",
    "\n",
    "---\n"
   ]
  },
  {
   "cell_type": "markdown",
   "id": "ebf43667",
   "metadata": {
    "papermill": {
     "duration": 0.005602,
     "end_time": "2023-01-13T15:29:59.974872",
     "exception": false,
     "start_time": "2023-01-13T15:29:59.969270",
     "status": "completed"
    },
    "tags": []
   },
   "source": [
    "## Recap\n",
    "So far, you have loaded your data and reviewed it with the following code. Run this cell to set up your coding environment where the previous step left off."
   ]
  },
  {
   "cell_type": "code",
   "execution_count": 1,
   "id": "01af1ab4",
   "metadata": {
    "execution": {
     "iopub.execute_input": "2023-01-13T15:29:59.988193Z",
     "iopub.status.busy": "2023-01-13T15:29:59.987224Z",
     "iopub.status.idle": "2023-01-13T15:30:01.363412Z",
     "shell.execute_reply": "2023-01-13T15:30:01.362096Z"
    },
    "papermill": {
     "duration": 1.387762,
     "end_time": "2023-01-13T15:30:01.367763",
     "exception": false,
     "start_time": "2023-01-13T15:29:59.980001",
     "status": "completed"
    },
    "tags": []
   },
   "outputs": [
    {
     "name": "stdout",
     "output_type": "stream",
     "text": [
      "Setup Complete\n"
     ]
    }
   ],
   "source": [
    "# Code you have previously used to load data\n",
    "import pandas as pd\n",
    "\n",
    "# Path of the file to read\n",
    "iowa_file_path = '../input/home-data-for-ml-course/train.csv'\n",
    "\n",
    "home_data = pd.read_csv(iowa_file_path)\n",
    "\n",
    "# Set up code checking\n",
    "from learntools.core import binder\n",
    "binder.bind(globals())\n",
    "from learntools.machine_learning.ex3 import *\n",
    "\n",
    "print(\"Setup Complete\")"
   ]
  },
  {
   "cell_type": "markdown",
   "id": "aad21938",
   "metadata": {
    "papermill": {
     "duration": 0.005237,
     "end_time": "2023-01-13T15:30:01.380726",
     "exception": false,
     "start_time": "2023-01-13T15:30:01.375489",
     "status": "completed"
    },
    "tags": []
   },
   "source": [
    "# Exercises\n",
    "\n",
    "## Step 1: Specify Prediction Target\n",
    "Select the target variable, which corresponds to the sales price. Save this to a new variable called `y`. You'll need to print a list of the columns to find the name of the column you need.\n"
   ]
  },
  {
   "cell_type": "code",
   "execution_count": 2,
   "id": "7d510fba",
   "metadata": {
    "execution": {
     "iopub.execute_input": "2023-01-13T15:30:01.393166Z",
     "iopub.status.busy": "2023-01-13T15:30:01.392743Z",
     "iopub.status.idle": "2023-01-13T15:30:01.398708Z",
     "shell.execute_reply": "2023-01-13T15:30:01.397560Z"
    },
    "papermill": {
     "duration": 0.016317,
     "end_time": "2023-01-13T15:30:01.402307",
     "exception": false,
     "start_time": "2023-01-13T15:30:01.385990",
     "status": "completed"
    },
    "tags": []
   },
   "outputs": [
    {
     "name": "stdout",
     "output_type": "stream",
     "text": [
      "Index(['Id', 'MSSubClass', 'MSZoning', 'LotFrontage', 'LotArea', 'Street',\n",
      "       'Alley', 'LotShape', 'LandContour', 'Utilities', 'LotConfig',\n",
      "       'LandSlope', 'Neighborhood', 'Condition1', 'Condition2', 'BldgType',\n",
      "       'HouseStyle', 'OverallQual', 'OverallCond', 'YearBuilt', 'YearRemodAdd',\n",
      "       'RoofStyle', 'RoofMatl', 'Exterior1st', 'Exterior2nd', 'MasVnrType',\n",
      "       'MasVnrArea', 'ExterQual', 'ExterCond', 'Foundation', 'BsmtQual',\n",
      "       'BsmtCond', 'BsmtExposure', 'BsmtFinType1', 'BsmtFinSF1',\n",
      "       'BsmtFinType2', 'BsmtFinSF2', 'BsmtUnfSF', 'TotalBsmtSF', 'Heating',\n",
      "       'HeatingQC', 'CentralAir', 'Electrical', '1stFlrSF', '2ndFlrSF',\n",
      "       'LowQualFinSF', 'GrLivArea', 'BsmtFullBath', 'BsmtHalfBath', 'FullBath',\n",
      "       'HalfBath', 'BedroomAbvGr', 'KitchenAbvGr', 'KitchenQual',\n",
      "       'TotRmsAbvGrd', 'Functional', 'Fireplaces', 'FireplaceQu', 'GarageType',\n",
      "       'GarageYrBlt', 'GarageFinish', 'GarageCars', 'GarageArea', 'GarageQual',\n",
      "       'GarageCond', 'PavedDrive', 'WoodDeckSF', 'OpenPorchSF',\n",
      "       'EnclosedPorch', '3SsnPorch', 'ScreenPorch', 'PoolArea', 'PoolQC',\n",
      "       'Fence', 'MiscFeature', 'MiscVal', 'MoSold', 'YrSold', 'SaleType',\n",
      "       'SaleCondition', 'SalePrice'],\n",
      "      dtype='object')\n"
     ]
    }
   ],
   "source": [
    "# print the list of columns in the dataset to find the name of the prediction target\n",
    "print(home_data.columns)"
   ]
  },
  {
   "cell_type": "code",
   "execution_count": 3,
   "id": "eb8501d6",
   "metadata": {
    "execution": {
     "iopub.execute_input": "2023-01-13T15:30:01.415014Z",
     "iopub.status.busy": "2023-01-13T15:30:01.414570Z",
     "iopub.status.idle": "2023-01-13T15:30:01.431031Z",
     "shell.execute_reply": "2023-01-13T15:30:01.429862Z"
    },
    "papermill": {
     "duration": 0.026449,
     "end_time": "2023-01-13T15:30:01.434170",
     "exception": false,
     "start_time": "2023-01-13T15:30:01.407721",
     "status": "completed"
    },
    "tags": []
   },
   "outputs": [
    {
     "data": {
      "application/javascript": [
       "parent.postMessage({\"jupyterEvent\": \"custom.exercise_interaction\", \"data\": {\"outcomeType\": 1, \"valueTowardsCompletion\": 0.25, \"interactionType\": 1, \"questionType\": 2, \"questionId\": \"1_SetTarget\", \"learnToolsVersion\": \"0.3.4\", \"failureMessage\": \"\", \"exceptionClass\": \"\", \"trace\": \"\"}}, \"*\")"
      ],
      "text/plain": [
       "<IPython.core.display.Javascript object>"
      ]
     },
     "metadata": {},
     "output_type": "display_data"
    },
    {
     "data": {
      "text/markdown": [
       "<span style=\"color:#33cc33\">Correct</span>"
      ],
      "text/plain": [
       "Correct"
      ]
     },
     "metadata": {},
     "output_type": "display_data"
    }
   ],
   "source": [
    "y = home_data.SalePrice\n",
    "\n",
    "# Check your answer\n",
    "step_1.check()"
   ]
  },
  {
   "cell_type": "code",
   "execution_count": 4,
   "id": "58cf9330",
   "metadata": {
    "execution": {
     "iopub.execute_input": "2023-01-13T15:30:01.447640Z",
     "iopub.status.busy": "2023-01-13T15:30:01.446583Z",
     "iopub.status.idle": "2023-01-13T15:30:01.451591Z",
     "shell.execute_reply": "2023-01-13T15:30:01.450651Z"
    },
    "papermill": {
     "duration": 0.014334,
     "end_time": "2023-01-13T15:30:01.454167",
     "exception": false,
     "start_time": "2023-01-13T15:30:01.439833",
     "status": "completed"
    },
    "tags": []
   },
   "outputs": [],
   "source": [
    "# The lines below will show you a hint or the solution.\n",
    "# step_1.hint() \n",
    "# step_1.solution()"
   ]
  },
  {
   "cell_type": "markdown",
   "id": "ae111655",
   "metadata": {
    "papermill": {
     "duration": 0.005252,
     "end_time": "2023-01-13T15:30:01.465339",
     "exception": false,
     "start_time": "2023-01-13T15:30:01.460087",
     "status": "completed"
    },
    "tags": []
   },
   "source": [
    "## Step 2: Create X\n",
    "Now you will create a DataFrame called `X` holding the predictive features.\n",
    "\n",
    "Since you want only some columns from the original data, you'll first create a list with the names of the columns you want in `X`.\n",
    "\n",
    "You'll use just the following columns in the list (you can copy and paste the whole list to save some typing, though you'll still need to add quotes):\n",
    "  * LotArea\n",
    "  * YearBuilt\n",
    "  * 1stFlrSF\n",
    "  * 2ndFlrSF\n",
    "  * FullBath\n",
    "  * BedroomAbvGr\n",
    "  * TotRmsAbvGrd\n",
    "\n",
    "After you've created that list of features, use it to create the DataFrame that you'll use to fit the model."
   ]
  },
  {
   "cell_type": "code",
   "execution_count": 5,
   "id": "2f4af64b",
   "metadata": {
    "execution": {
     "iopub.execute_input": "2023-01-13T15:30:01.479576Z",
     "iopub.status.busy": "2023-01-13T15:30:01.479183Z",
     "iopub.status.idle": "2023-01-13T15:30:01.492926Z",
     "shell.execute_reply": "2023-01-13T15:30:01.491979Z"
    },
    "papermill": {
     "duration": 0.024226,
     "end_time": "2023-01-13T15:30:01.495021",
     "exception": false,
     "start_time": "2023-01-13T15:30:01.470795",
     "status": "completed"
    },
    "tags": []
   },
   "outputs": [
    {
     "data": {
      "application/javascript": [
       "parent.postMessage({\"jupyterEvent\": \"custom.exercise_interaction\", \"data\": {\"outcomeType\": 1, \"valueTowardsCompletion\": 0.25, \"interactionType\": 1, \"questionType\": 2, \"questionId\": \"2_SelectPredictionData\", \"learnToolsVersion\": \"0.3.4\", \"failureMessage\": \"\", \"exceptionClass\": \"\", \"trace\": \"\"}}, \"*\")"
      ],
      "text/plain": [
       "<IPython.core.display.Javascript object>"
      ]
     },
     "metadata": {},
     "output_type": "display_data"
    },
    {
     "data": {
      "text/markdown": [
       "<span style=\"color:#33cc33\">Correct</span>"
      ],
      "text/plain": [
       "Correct"
      ]
     },
     "metadata": {},
     "output_type": "display_data"
    }
   ],
   "source": [
    "# Create the list of features below\n",
    "feature_names = ['LotArea', 'YearBuilt', '1stFlrSF', '2ndFlrSF', 'FullBath', 'BedroomAbvGr', 'TotRmsAbvGrd']\n",
    "\n",
    "# Select data corresponding to features in feature_names\n",
    "X = home_data[feature_names]\n",
    "\n",
    "# Check your answer\n",
    "step_2.check()"
   ]
  },
  {
   "cell_type": "code",
   "execution_count": 6,
   "id": "4e14b7c3",
   "metadata": {
    "execution": {
     "iopub.execute_input": "2023-01-13T15:30:01.508196Z",
     "iopub.status.busy": "2023-01-13T15:30:01.507830Z",
     "iopub.status.idle": "2023-01-13T15:30:01.511453Z",
     "shell.execute_reply": "2023-01-13T15:30:01.510671Z"
    },
    "papermill": {
     "duration": 0.012605,
     "end_time": "2023-01-13T15:30:01.513386",
     "exception": false,
     "start_time": "2023-01-13T15:30:01.500781",
     "status": "completed"
    },
    "tags": []
   },
   "outputs": [],
   "source": [
    "# step_2.hint()\n",
    "# step_2.solution()"
   ]
  },
  {
   "cell_type": "markdown",
   "id": "e52ce4a6",
   "metadata": {
    "papermill": {
     "duration": 0.005387,
     "end_time": "2023-01-13T15:30:01.524556",
     "exception": false,
     "start_time": "2023-01-13T15:30:01.519169",
     "status": "completed"
    },
    "tags": []
   },
   "source": [
    "## Review Data\n",
    "Before building a model, take a quick look at **X** to verify it looks sensible"
   ]
  },
  {
   "cell_type": "code",
   "execution_count": 7,
   "id": "0918ed2e",
   "metadata": {
    "execution": {
     "iopub.execute_input": "2023-01-13T15:30:01.537803Z",
     "iopub.status.busy": "2023-01-13T15:30:01.537024Z",
     "iopub.status.idle": "2023-01-13T15:30:01.572892Z",
     "shell.execute_reply": "2023-01-13T15:30:01.571388Z"
    },
    "papermill": {
     "duration": 0.045347,
     "end_time": "2023-01-13T15:30:01.575487",
     "exception": false,
     "start_time": "2023-01-13T15:30:01.530140",
     "status": "completed"
    },
    "tags": []
   },
   "outputs": [
    {
     "name": "stdout",
     "output_type": "stream",
     "text": [
      "             LotArea    YearBuilt     1stFlrSF     2ndFlrSF     FullBath  \\\n",
      "count    1460.000000  1460.000000  1460.000000  1460.000000  1460.000000   \n",
      "mean    10516.828082  1971.267808  1162.626712   346.992466     1.565068   \n",
      "std      9981.264932    30.202904   386.587738   436.528436     0.550916   \n",
      "min      1300.000000  1872.000000   334.000000     0.000000     0.000000   \n",
      "25%      7553.500000  1954.000000   882.000000     0.000000     1.000000   \n",
      "50%      9478.500000  1973.000000  1087.000000     0.000000     2.000000   \n",
      "75%     11601.500000  2000.000000  1391.250000   728.000000     2.000000   \n",
      "max    215245.000000  2010.000000  4692.000000  2065.000000     3.000000   \n",
      "\n",
      "       BedroomAbvGr  TotRmsAbvGrd  \n",
      "count   1460.000000   1460.000000  \n",
      "mean       2.866438      6.517808  \n",
      "std        0.815778      1.625393  \n",
      "min        0.000000      2.000000  \n",
      "25%        2.000000      5.000000  \n",
      "50%        3.000000      6.000000  \n",
      "75%        3.000000      7.000000  \n",
      "max        8.000000     14.000000  \n",
      "   LotArea  YearBuilt  1stFlrSF  2ndFlrSF  FullBath  BedroomAbvGr  \\\n",
      "0     8450       2003       856       854         2             3   \n",
      "1     9600       1976      1262         0         2             3   \n",
      "2    11250       2001       920       866         2             3   \n",
      "3     9550       1915       961       756         1             3   \n",
      "4    14260       2000      1145      1053         2             4   \n",
      "\n",
      "   TotRmsAbvGrd  \n",
      "0             8  \n",
      "1             6  \n",
      "2             6  \n",
      "3             7  \n",
      "4             9  \n"
     ]
    }
   ],
   "source": [
    "# Review data\n",
    "# print description or statistics from X\n",
    "print(X.describe())\n",
    "\n",
    "# print the top few lines\n",
    "print(X.head())"
   ]
  },
  {
   "cell_type": "markdown",
   "id": "11915a3b",
   "metadata": {
    "papermill": {
     "duration": 0.005543,
     "end_time": "2023-01-13T15:30:01.586952",
     "exception": false,
     "start_time": "2023-01-13T15:30:01.581409",
     "status": "completed"
    },
    "tags": []
   },
   "source": [
    "## Step 3: Specify and Fit Model\n",
    "Create a `DecisionTreeRegressor` and save it iowa_model. Ensure you've done the relevant import from sklearn to run this command.\n",
    "\n",
    "Then fit the model you just created using the data in `X` and `y` that you saved above."
   ]
  },
  {
   "cell_type": "code",
   "execution_count": 8,
   "id": "28a91e6d",
   "metadata": {
    "execution": {
     "iopub.execute_input": "2023-01-13T15:30:01.600207Z",
     "iopub.status.busy": "2023-01-13T15:30:01.599786Z",
     "iopub.status.idle": "2023-01-13T15:30:01.617789Z",
     "shell.execute_reply": "2023-01-13T15:30:01.616426Z"
    },
    "papermill": {
     "duration": 0.027679,
     "end_time": "2023-01-13T15:30:01.620366",
     "exception": false,
     "start_time": "2023-01-13T15:30:01.592687",
     "status": "completed"
    },
    "tags": []
   },
   "outputs": [
    {
     "data": {
      "application/javascript": [
       "parent.postMessage({\"jupyterEvent\": \"custom.exercise_interaction\", \"data\": {\"outcomeType\": 1, \"valueTowardsCompletion\": 0.25, \"interactionType\": 1, \"questionType\": 2, \"questionId\": \"3_CreateModel\", \"learnToolsVersion\": \"0.3.4\", \"failureMessage\": \"\", \"exceptionClass\": \"\", \"trace\": \"\"}}, \"*\")"
      ],
      "text/plain": [
       "<IPython.core.display.Javascript object>"
      ]
     },
     "metadata": {},
     "output_type": "display_data"
    },
    {
     "data": {
      "text/markdown": [
       "<span style=\"color:#33cc33\">Correct</span>"
      ],
      "text/plain": [
       "Correct"
      ]
     },
     "metadata": {},
     "output_type": "display_data"
    }
   ],
   "source": [
    "from sklearn.tree import DecisionTreeRegressor\n",
    "#specify the model. \n",
    "#For model reproducibility, set a numeric value for random_state when specifying the model\n",
    "iowa_model = DecisionTreeRegressor(random_state=5)\n",
    "\n",
    "# Fit the model\n",
    "iowa_model.fit(X, y)\n",
    "\n",
    "# Check your answer\n",
    "step_3.check()"
   ]
  },
  {
   "cell_type": "code",
   "execution_count": 9,
   "id": "e46e9491",
   "metadata": {
    "execution": {
     "iopub.execute_input": "2023-01-13T15:30:01.634170Z",
     "iopub.status.busy": "2023-01-13T15:30:01.633803Z",
     "iopub.status.idle": "2023-01-13T15:30:01.638152Z",
     "shell.execute_reply": "2023-01-13T15:30:01.637060Z"
    },
    "papermill": {
     "duration": 0.013808,
     "end_time": "2023-01-13T15:30:01.640174",
     "exception": false,
     "start_time": "2023-01-13T15:30:01.626366",
     "status": "completed"
    },
    "tags": []
   },
   "outputs": [],
   "source": [
    "# step_3.hint()\n",
    "# step_3.solution()"
   ]
  },
  {
   "cell_type": "markdown",
   "id": "a8ed534f",
   "metadata": {
    "papermill": {
     "duration": 0.005764,
     "end_time": "2023-01-13T15:30:01.651904",
     "exception": false,
     "start_time": "2023-01-13T15:30:01.646140",
     "status": "completed"
    },
    "tags": []
   },
   "source": [
    "## Step 4: Make Predictions\n",
    "Make predictions with the model's `predict` command using `X` as the data. Save the results to a variable called `predictions`."
   ]
  },
  {
   "cell_type": "code",
   "execution_count": 10,
   "id": "caae5d2f",
   "metadata": {
    "execution": {
     "iopub.execute_input": "2023-01-13T15:30:01.665480Z",
     "iopub.status.busy": "2023-01-13T15:30:01.665102Z",
     "iopub.status.idle": "2023-01-13T15:30:01.679923Z",
     "shell.execute_reply": "2023-01-13T15:30:01.678741Z"
    },
    "papermill": {
     "duration": 0.024161,
     "end_time": "2023-01-13T15:30:01.681980",
     "exception": false,
     "start_time": "2023-01-13T15:30:01.657819",
     "status": "completed"
    },
    "tags": []
   },
   "outputs": [
    {
     "name": "stdout",
     "output_type": "stream",
     "text": [
      "[208500. 181500. 223500. ... 266500. 142125. 147500.]\n"
     ]
    },
    {
     "data": {
      "application/javascript": [
       "parent.postMessage({\"jupyterEvent\": \"custom.exercise_interaction\", \"data\": {\"outcomeType\": 1, \"valueTowardsCompletion\": 0.25, \"interactionType\": 1, \"questionType\": 2, \"questionId\": \"4_MakePredictions\", \"learnToolsVersion\": \"0.3.4\", \"failureMessage\": \"\", \"exceptionClass\": \"\", \"trace\": \"\"}}, \"*\")"
      ],
      "text/plain": [
       "<IPython.core.display.Javascript object>"
      ]
     },
     "metadata": {},
     "output_type": "display_data"
    },
    {
     "data": {
      "text/markdown": [
       "<span style=\"color:#33cc33\">Correct</span>"
      ],
      "text/plain": [
       "Correct"
      ]
     },
     "metadata": {},
     "output_type": "display_data"
    }
   ],
   "source": [
    "predictions = iowa_model.predict(X)\n",
    "print(predictions)\n",
    "\n",
    "# Check your answer\n",
    "step_4.check()"
   ]
  },
  {
   "cell_type": "code",
   "execution_count": 11,
   "id": "81cdfc6e",
   "metadata": {
    "execution": {
     "iopub.execute_input": "2023-01-13T15:30:01.696075Z",
     "iopub.status.busy": "2023-01-13T15:30:01.695697Z",
     "iopub.status.idle": "2023-01-13T15:30:01.699908Z",
     "shell.execute_reply": "2023-01-13T15:30:01.698884Z"
    },
    "papermill": {
     "duration": 0.01386,
     "end_time": "2023-01-13T15:30:01.702153",
     "exception": false,
     "start_time": "2023-01-13T15:30:01.688293",
     "status": "completed"
    },
    "tags": []
   },
   "outputs": [],
   "source": [
    "# step_4.hint()\n",
    "# step_4.solution()"
   ]
  },
  {
   "cell_type": "markdown",
   "id": "d7d9476c",
   "metadata": {
    "papermill": {
     "duration": 0.005847,
     "end_time": "2023-01-13T15:30:01.714106",
     "exception": false,
     "start_time": "2023-01-13T15:30:01.708259",
     "status": "completed"
    },
    "tags": []
   },
   "source": [
    "## Think About Your Results\n",
    "\n",
    "Use the `head` method to compare the top few predictions to the actual home values (in `y`) for those same homes. Anything surprising?\n"
   ]
  },
  {
   "cell_type": "code",
   "execution_count": 12,
   "id": "e2701744",
   "metadata": {
    "execution": {
     "iopub.execute_input": "2023-01-13T15:30:01.728752Z",
     "iopub.status.busy": "2023-01-13T15:30:01.727560Z",
     "iopub.status.idle": "2023-01-13T15:30:01.737039Z",
     "shell.execute_reply": "2023-01-13T15:30:01.735664Z"
    },
    "papermill": {
     "duration": 0.019355,
     "end_time": "2023-01-13T15:30:01.739505",
     "exception": false,
     "start_time": "2023-01-13T15:30:01.720150",
     "status": "completed"
    },
    "tags": []
   },
   "outputs": [
    {
     "name": "stdout",
     "output_type": "stream",
     "text": [
      "[208500. 181500. 223500. 140000. 250000.]\n",
      "actual: \n",
      "0    208500\n",
      "1    181500\n",
      "2    223500\n",
      "3    140000\n",
      "4    250000\n",
      "Name: SalePrice, dtype: int64\n"
     ]
    }
   ],
   "source": [
    "# You can write code in this cell\n",
    "headPredictions = iowa_model.predict(X.head())\n",
    "print(headPredictions)\n",
    "print(\"actual: \")\n",
    "print(y.head())"
   ]
  },
  {
   "cell_type": "markdown",
   "id": "114ac85b",
   "metadata": {
    "papermill": {
     "duration": 0.005972,
     "end_time": "2023-01-13T15:30:01.751793",
     "exception": false,
     "start_time": "2023-01-13T15:30:01.745821",
     "status": "completed"
    },
    "tags": []
   },
   "source": [
    "It's natural to ask how accurate the model's predictions will be and how you can improve that. That will be you're next step.\n",
    "\n",
    "# Keep Going\n",
    "\n",
    "You are ready for **[Model Validation](https://www.kaggle.com/dansbecker/model-validation).**\n"
   ]
  },
  {
   "cell_type": "markdown",
   "id": "c366694c",
   "metadata": {
    "papermill": {
     "duration": 0.005978,
     "end_time": "2023-01-13T15:30:01.764016",
     "exception": false,
     "start_time": "2023-01-13T15:30:01.758038",
     "status": "completed"
    },
    "tags": []
   },
   "source": [
    "---\n",
    "\n",
    "\n",
    "\n",
    "\n",
    "*Have questions or comments? Visit the [course discussion forum](https://www.kaggle.com/learn/intro-to-machine-learning/discussion) to chat with other learners.*"
   ]
  }
 ],
 "metadata": {
  "kernelspec": {
   "display_name": "Python 3",
   "language": "python",
   "name": "python3"
  },
  "language_info": {
   "codemirror_mode": {
    "name": "ipython",
    "version": 3
   },
   "file_extension": ".py",
   "mimetype": "text/x-python",
   "name": "python",
   "nbconvert_exporter": "python",
   "pygments_lexer": "ipython3",
   "version": "3.7.12"
  },
  "papermill": {
   "default_parameters": {},
   "duration": 11.270188,
   "end_time": "2023-01-13T15:30:02.492403",
   "environment_variables": {},
   "exception": null,
   "input_path": "__notebook__.ipynb",
   "output_path": "__notebook__.ipynb",
   "parameters": {},
   "start_time": "2023-01-13T15:29:51.222215",
   "version": "2.3.4"
  }
 },
 "nbformat": 4,
 "nbformat_minor": 5
}
